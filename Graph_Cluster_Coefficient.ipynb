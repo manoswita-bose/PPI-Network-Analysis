{
  "nbformat": 4,
  "nbformat_minor": 0,
  "metadata": {
    "colab": {
      "provenance": []
    },
    "kernelspec": {
      "name": "python3",
      "display_name": "Python 3"
    },
    "language_info": {
      "name": "python"
    }
  },
  "cells": [
    {
      "cell_type": "code",
      "execution_count": null,
      "metadata": {
        "colab": {
          "base_uri": "https://localhost:8080/"
        },
        "id": "MtfddA1S7J_J",
        "outputId": "59231c37-7f88-47df-dac4-cc718212189d"
      },
      "outputs": [
        {
          "output_type": "stream",
          "name": "stdout",
          "text": [
            "Cluster coefficient for G1: 0.0000\n",
            "Cluster coefficient for G2: 0.0000\n",
            "Cluster coefficient for G3: 0.6667\n"
          ]
        }
      ],
      "source": [
        "import networkx as nx\n",
        "\n",
        "# Loading and reading the PPI graphs\n",
        "G1 = nx.read_edgelist('ppi_graph1.txt')\n",
        "G2 = nx.read_edgelist('ppi_graph2.txt')\n",
        "G3 = nx.read_edgelist('ppi_graph3.txt')\n",
        "\n",
        "# Calculating the cluster coefficients for each graph\n",
        "cc1 = nx.algorithms.cluster.average_clustering(G1)\n",
        "cc2 = nx.algorithms.cluster.average_clustering(G2)\n",
        "cc3 = nx.algorithms.cluster.average_clustering(G3)\n",
        "\n",
        "# Printing the results\n",
        "print(\"Cluster coefficient for G1: {:.4f}\".format(cc1))\n",
        "print(\"Cluster coefficient for G2: {:.4f}\".format(cc2))\n",
        "print(\"Cluster coefficient for G3: {:.4f}\".format(cc3))\n"
      ]
    }
  ]
}