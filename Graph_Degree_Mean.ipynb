{
  "nbformat": 4,
  "nbformat_minor": 0,
  "metadata": {
    "colab": {
      "provenance": []
    },
    "kernelspec": {
      "name": "python3",
      "display_name": "Python 3"
    },
    "language_info": {
      "name": "python"
    }
  },
  "cells": [
    {
      "cell_type": "code",
      "execution_count": null,
      "metadata": {
        "colab": {
          "base_uri": "https://localhost:8080/"
        },
        "id": "aT9Pzf4U0FXP",
        "outputId": "973e55e8-5ce7-46dd-fc55-409428670ccf"
      },
      "outputs": [
        {
          "output_type": "stream",
          "name": "stdout",
          "text": [
            "Graph 1 - Degree Mean: 0.500\n",
            "Graph 2 - Degree Mean: 0.300\n",
            "Overall Degree Mean: 0.400\n"
          ]
        }
      ],
      "source": [
        "import networkx as nw\n",
        "\n",
        "# Firstly, I'm loading the protein-protein interaction graphs\n",
        "G1 = nw.read_edgelist('protein_interactions1.txt')\n",
        "G2 = nw.read_edgelist('protein_interactions2.txt')\n",
        "# More graphs can be added, as needed\n",
        "\n",
        "# The graphs need to be combined into a single list now\n",
        "graphs = [G1, G2]\n",
        "\n",
        "# I'm now calculating degree centrality for each graph\n",
        "degree_means = []\n",
        "for G in graphs:\n",
        "    degree_centrality = nw.degree_centrality(G)\n",
        "    degree_mean = sum(degree_centrality.values()) / len(degree_centrality)\n",
        "    degree_means.append(degree_mean)\n",
        "\n",
        "# I'll now calculate the overall graph degree mean\n",
        "overall_degree_mean = sum(degree_means) / len(degree_means)\n",
        "\n",
        "# I'll print the degree mean for each graph and the overall degree mean\n",
        "for i, G in enumerate(graphs):\n",
        "    print(f\"Graph {i+1} - Degree Mean: {degree_means[i]:.3f}\")\n",
        "print(f\"Overall Degree Mean: {overall_degree_mean:.3f}\")"
      ]
    }
  ]
}