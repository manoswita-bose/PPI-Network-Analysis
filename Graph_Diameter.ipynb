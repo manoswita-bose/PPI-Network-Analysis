{
  "nbformat": 4,
  "nbformat_minor": 0,
  "metadata": {
    "colab": {
      "provenance": []
    },
    "kernelspec": {
      "name": "python3",
      "display_name": "Python 3"
    },
    "language_info": {
      "name": "python"
    }
  },
  "cells": [
    {
      "cell_type": "code",
      "execution_count": null,
      "metadata": {
        "colab": {
          "base_uri": "https://localhost:8080/"
        },
        "id": "9CtBqDrxOrh7",
        "outputId": "875d164c-7228-437d-c95f-dba7164f9e85"
      },
      "outputs": [
        {
          "output_type": "stream",
          "name": "stdout",
          "text": [
            "Graph 1 - Diameter: 6\n",
            "Graph 2 - Diameter: 4\n",
            "Overall Diameter: 6\n"
          ]
        }
      ],
      "source": [
        "import networkx as nw\n",
        "\n",
        "# A function to calculate the graph diameter from a list of protein-protein interaction graphs\n",
        "def calculate_graph_diameter(graph_file_list):\n",
        "    #graph_file_list (list) provides a list of the graph files in edge list format.\n",
        "\n",
        "    \"\"\"Returns:\n",
        "        overall_diameter (int): Overall graph diameter.\"\"\"\n",
        "\n",
        "    overall_diameter = 0\n",
        "    for i, graph_file in enumerate(graph_file_list):\n",
        "        # I'll now be reading the graph from the edge list file\n",
        "        G = nw.read_edgelist(graph_file)\n",
        "\n",
        "        # Calculate the diameter of the graph\n",
        "        diameter = nw.diameter(G)\n",
        "        print(\"Graph {} - Diameter: {}\".format(i+1, diameter))\n",
        "\n",
        "        # Update the overall diameter if necessary\n",
        "        overall_diameter = max(overall_diameter, diameter)\n",
        "\n",
        "    print(\"Overall Diameter: {}\".format(overall_diameter))\n",
        "    return overall_diameter\n",
        "\n",
        "# List of protein-protein interaction graphs in edge list format\n",
        "graph_file_list = ['protein_interactions1.txt', 'protein_interactions2.txt']\n",
        "\n",
        "# Call the function to calculate the overall graph diameter\n",
        "overall_diameter = calculate_graph_diameter(graph_file_list)\n"
      ]
    }
  ]
}