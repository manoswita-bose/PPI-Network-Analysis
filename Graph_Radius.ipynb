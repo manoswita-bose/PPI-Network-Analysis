{
  "nbformat": 4,
  "nbformat_minor": 0,
  "metadata": {
    "colab": {
      "provenance": []
    },
    "kernelspec": {
      "name": "python3",
      "display_name": "Python 3"
    },
    "language_info": {
      "name": "python"
    }
  },
  "cells": [
    {
      "cell_type": "code",
      "execution_count": null,
      "metadata": {
        "id": "k4m7X9k8YdPH",
        "colab": {
          "base_uri": "https://localhost:8080/"
        },
        "outputId": "eaf541c5-223a-4c5c-c75b-6b153514ad09"
      },
      "outputs": [
        {
          "output_type": "stream",
          "name": "stdout",
          "text": [
            "Graph 1 - Radius: 1\n",
            "Graph 2 - Radius: 2\n",
            "Overall Radius: 2\n"
          ]
        }
      ],
      "source": [
        "import networkx as nw\n",
        "\n",
        "# Protein-protein interaction graphs are loaded at first\n",
        "G1 = nw.read_edgelist('protein_interactions1.txt')\n",
        "G2 = nw.read_edgelist('protein_interactions2.txt')\n",
        "# More graphs can be added as needed\n",
        "\n",
        "# The graphs are combined into a list\n",
        "graphs = [G1, G2]\n",
        "\n",
        "# The radius for each graph is now calculated\n",
        "rad = []\n",
        "for G in graphs:\n",
        "    radius = nw.radius(G)\n",
        "    rad.append(radius)\n",
        "\n",
        "# The overall graph radius is calculated\n",
        "overall_radius = max(rad)\n",
        "\n",
        "# The radius for each graph and the overall radius are now calculated\n",
        "for i, G in enumerate(graphs):\n",
        "    print(f\"Graph {i+1} - Radius: {rad[i]}\")\n",
        "print(f\"Overall Radius: {overall_radius}\")"
      ]
    },
    {
      "cell_type": "code",
      "source": [
        "from google.colab import drive\n",
        "drive.mount('/content/drive')"
      ],
      "metadata": {
        "id": "5vYwxOLAe1OY"
      },
      "execution_count": null,
      "outputs": []
    }
  ]
}