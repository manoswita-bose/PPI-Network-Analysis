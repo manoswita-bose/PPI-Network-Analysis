{
  "nbformat": 4,
  "nbformat_minor": 0,
  "metadata": {
    "colab": {
      "provenance": []
    },
    "kernelspec": {
      "name": "python3",
      "display_name": "Python 3"
    },
    "language_info": {
      "name": "python"
    }
  },
  "cells": [
    {
      "cell_type": "code",
      "execution_count": null,
      "metadata": {
        "id": "hB5xuMA6TRiG",
        "colab": {
          "base_uri": "https://localhost:8080/"
        },
        "outputId": "0d23de88-c5c4-4b72-903b-814b5d43f138"
      },
      "outputs": [
        {
          "output_type": "stream",
          "name": "stdout",
          "text": [
            "Number of nodes: 10\n",
            "Number of edges: 9\n",
            "Average degree: 1.8\n",
            "Clustering coefficient: 0.0\n",
            "Shortest path length: 1.8\n",
            "Betweenness centrality: {'node1': 0.0, '': 1.0, 'node2': 0.0, 'node3': 0.0, 'node4': 0.0, 'node5': 0.0, 'node6': 0.0, 'node7': 0.0, 'node8': 0.0, 'node9': 0.0}\n"
          ]
        }
      ],
      "source": [
        "import networkx as nx\n",
        "\n",
        "# Load network from file\n",
        "G = nx.Graph()\n",
        "with open('network_file.txt', 'r') as f:\n",
        "  lines = [line.strip() for line in f if line.strip()]\n",
        "\n",
        "  for line in lines:\n",
        "        u, v, *_ = line.split('\\t')\n",
        "        G.add_edge(u, v)\n",
        "\n",
        "# Basic network analysis\n",
        "print(f\"Number of nodes: {G.number_of_nodes()}\")\n",
        "print(f\"Number of edges: {G.number_of_edges()}\")\n",
        "print(f\"Average degree: {sum(dict(G.degree()).values()) / G.number_of_nodes()}\")\n",
        "\n",
        "# Advanced network analysis\n",
        "print(f\"Clustering coefficient: {nx.average_clustering(G)}\")\n",
        "print(f\"Shortest path length: {nx.average_shortest_path_length(G)}\")\n",
        "print(f\"Betweenness centrality: {nx.betweenness_centrality(G)}\")\n"
      ]
    }
  ]
}